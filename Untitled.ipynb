{
 "cells": [
  {
   "cell_type": "code",
   "execution_count": 108,
   "metadata": {},
   "outputs": [],
   "source": [
    "import usaddress"
   ]
  },
  {
   "cell_type": "code",
   "execution_count": 124,
   "metadata": {},
   "outputs": [
    {
     "data": {
      "text/plain": [
       "'Unable to parse this value due to repeated labels. Our team has been notified of the error.'"
      ]
     },
     "execution_count": 124,
     "metadata": {},
     "output_type": "execute_result"
    }
   ],
   "source": [
    "adds = '5532 Chippewa St St Louis, MO 63109 5532 Chippewa St St Louis, MO 63109'\n",
    "def parse(addr):\n",
    "        # TODO: Implement this method to return the parsed components of a\n",
    "        # given address using usaddress: https://github.com/datamade/usaddress\n",
    "\n",
    "        \n",
    "        # try/except here\n",
    "        try:\n",
    "            address = usaddress.tag(addr)\n",
    "            for i in address:\n",
    "                address_components = dict(address[0])\n",
    "                address_type = address[1]\n",
    "        except usaddress.RepeatedLabelError as repeat_error:\n",
    "            repeat_error = 'Unable to parse this value due to repeated labels. Our team has been notified of the error.'\n",
    "            return repeat_error\n",
    "        else:\n",
    "            return address_components , address_type\n",
    "\n",
    "parse(adds)\n"
   ]
  },
  {
   "cell_type": "code",
   "execution_count": 131,
   "metadata": {},
   "outputs": [
    {
     "data": {
      "text/plain": [
       "''"
      ]
     },
     "execution_count": 131,
     "metadata": {},
     "output_type": "execute_result"
    }
   ],
   "source": [
    "addr = '5532 Chippewa St St Louis, MO 631095532 Chippewa St St Louis, MO 63109'\n",
    "repeat_error = ''\n",
    "def post(request):\n",
    "        # TODO: Flesh out this method to parse an address string using the\n",
    "        # parse() method and return the parsed components to the frontend.\n",
    "        \n",
    "#     address_type = parse(request)[0]\n",
    "#     tag = parse(request)[1]\n",
    "#     address_components = [address_type, tag]\n",
    "#     return address_components\n",
    "    \n",
    "#     parsed_address = parse(request)\n",
    "#     return parsed_address\n",
    "    parse_request = parse(request)\n",
    "    return repeat_error\n",
    "    \n",
    "#     if isinstance(parse_request, str):\n",
    "#         print(parse_request)\n",
    "#     elif isinstance(parse_request, tuple) and parse_request[1] == 'Ambiguous':\n",
    "#         print('~ambiguous~')\n",
    "#     else:\n",
    "#         print(parse_request)\n",
    "\n",
    "post(addr)"
   ]
  },
  {
   "cell_type": "code",
   "execution_count": 64,
   "metadata": {},
   "outputs": [
    {
     "name": "stdout",
     "output_type": "stream",
     "text": [
      "\n",
      "ERROR: Unable to tag this string because more than one area of the string has the same label\n",
      "\n",
      "ORIGINAL STRING:  123 Main St. Suite 100 Chicago, IL 123 Main St.\n",
      "PARSED TOKENS:    [('123', 'AddressNumber'), ('Main', 'StreetName'), ('St.', 'StreetNamePostType'), ('Suite', 'OccupancyType'), ('100', 'OccupancyIdentifier'), ('Chicago,', 'PlaceName'), ('IL', 'StateName'), ('123', 'AddressNumber'), ('Main', 'StreetName'), ('St.', 'StreetNamePostType')]\n",
      "UNCERTAIN LABEL:  AddressNumber\n",
      "\n",
      "When this error is raised, it's likely that either (1) the string is not a valid person/corporation name or (2) some tokens were labeled incorrectly\n",
      "\n",
      "To report an error in labeling a valid name, open an issue at https://github.com/datamade/usaddress/issues/new - it'll help us continue to improve probablepeople!\n",
      "\n",
      "For more information, see the documentation at https://usaddress.readthedocs.io/\n"
     ]
    },
    {
     "ename": "TypeError",
     "evalue": "'NoneType' object is not subscriptable",
     "output_type": "error",
     "traceback": [
      "\u001b[0;31m---------------------------------------------------------------------------\u001b[0m",
      "\u001b[0;31mTypeError\u001b[0m                                 Traceback (most recent call last)",
      "\u001b[0;32m<ipython-input-64-d0c453f8b98a>\u001b[0m in \u001b[0;36m<module>\u001b[0;34m\u001b[0m\n\u001b[0;32m----> 1\u001b[0;31m \u001b[0mpost\u001b[0m\u001b[0;34m(\u001b[0m\u001b[0;34m'123 Main St. Suite 100 Chicago, IL 123 Main St.'\u001b[0m\u001b[0;34m)\u001b[0m\u001b[0;34m\u001b[0m\u001b[0;34m\u001b[0m\u001b[0m\n\u001b[0m",
      "\u001b[0;32m<ipython-input-63-5b9a9245d29c>\u001b[0m in \u001b[0;36mpost\u001b[0;34m(request)\u001b[0m\n\u001b[1;32m      5\u001b[0m         \u001b[0;31m# Try to fix bug so that two-part place names (e.g. \"Saint Louis\") are read as one\u001b[0m\u001b[0;34m\u001b[0m\u001b[0;34m\u001b[0m\u001b[0;34m\u001b[0m\u001b[0m\n\u001b[1;32m      6\u001b[0m \u001b[0;34m\u001b[0m\u001b[0m\n\u001b[0;32m----> 7\u001b[0;31m         \u001b[0maddress_type\u001b[0m \u001b[0;34m=\u001b[0m \u001b[0mparse\u001b[0m\u001b[0;34m(\u001b[0m\u001b[0mrequest\u001b[0m\u001b[0;34m)\u001b[0m\u001b[0;34m[\u001b[0m\u001b[0;36m0\u001b[0m\u001b[0;34m]\u001b[0m\u001b[0;34m\u001b[0m\u001b[0;34m\u001b[0m\u001b[0m\n\u001b[0m\u001b[1;32m      8\u001b[0m         \u001b[0mtag\u001b[0m \u001b[0;34m=\u001b[0m \u001b[0mparse\u001b[0m\u001b[0;34m(\u001b[0m\u001b[0mrequest\u001b[0m\u001b[0;34m)\u001b[0m\u001b[0;34m[\u001b[0m\u001b[0;36m1\u001b[0m\u001b[0;34m]\u001b[0m\u001b[0;34m\u001b[0m\u001b[0;34m\u001b[0m\u001b[0m\n\u001b[1;32m      9\u001b[0m         \u001b[0maddress_components\u001b[0m \u001b[0;34m=\u001b[0m \u001b[0;34m[\u001b[0m\u001b[0maddress_type\u001b[0m\u001b[0;34m,\u001b[0m \u001b[0mtag\u001b[0m\u001b[0;34m]\u001b[0m\u001b[0;34m\u001b[0m\u001b[0;34m\u001b[0m\u001b[0m\n",
      "\u001b[0;31mTypeError\u001b[0m: 'NoneType' object is not subscriptable"
     ]
    }
   ],
   "source": [
    "post('123 Main St. Suite 100 Chicago, IL 123 Main St.')"
   ]
  },
  {
   "cell_type": "code",
   "execution_count": null,
   "metadata": {},
   "outputs": [],
   "source": []
  }
 ],
 "metadata": {
  "kernelspec": {
   "display_name": "Python 3",
   "language": "python",
   "name": "python3"
  },
  "language_info": {
   "codemirror_mode": {
    "name": "ipython",
    "version": 3
   },
   "file_extension": ".py",
   "mimetype": "text/x-python",
   "name": "python",
   "nbconvert_exporter": "python",
   "pygments_lexer": "ipython3",
   "version": "3.8.0"
  }
 },
 "nbformat": 4,
 "nbformat_minor": 4
}
